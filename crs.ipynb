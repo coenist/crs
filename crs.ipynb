{
 "cells": [
  {
   "cell_type": "code",
   "execution_count": 1,
   "id": "2cea1308",
   "metadata": {},
   "outputs": [],
   "source": [
    "from pyproj import enums, database, Transformer, CRS\n",
    "import pandas as pd\n",
    "from shapely.geometry import Polygon, Point\n",
    "import requests\n",
    "import sys"
   ]
  },
  {
   "cell_type": "markdown",
   "id": "97094bf5",
   "metadata": {},
   "source": [
    "## Used functions\n",
    "For more information, we refer to the paper and the readme.md file."
   ]
  },
  {
   "cell_type": "markdown",
   "id": "cac9c1b6",
   "metadata": {},
   "source": [
    "**`getProjectionTypes(self)`:**\n",
    "A simple function to obtain an overview of different types of CRS\n",
    "\n",
    "Returns\n",
    "- `List`: A list of different types of CRS."
   ]
  },
  {
   "cell_type": "code",
   "execution_count": 13,
   "id": "7d58803b",
   "metadata": {},
   "outputs": [],
   "source": [
    "def getProjectionTypes():\n",
    "    return dir(enums.PJType)"
   ]
  },
  {
   "cell_type": "markdown",
   "id": "26b81fdc",
   "metadata": {},
   "source": [
    "**`geocode(self, string)`:**\n",
    "Function that retreives a list of coordinates for a given descriptive location. This function uses the Nonminatim API for geocoding.\n",
    "\n",
    "Parameters\n",
    "- `locStr` : String, description of the spatial location.\n",
    "\n",
    "Returns\n",
    "- `refList` : List of Points (shapely.geometry), a list of coordinates for a given descriptive location."
   ]
  },
  {
   "cell_type": "code",
   "execution_count": null,
   "id": "021dcda6",
   "metadata": {},
   "outputs": [],
   "source": [
    "def geocode(locStr):\n",
    "    url = \"https://nominatim.openstreetmap.org/search\"\n",
    "    params = {\"format\": \"json\", \"q\": locStr}\n",
    "    r = requests.get(url, params=params)\n",
    "    locList = r.json()\n",
    "    refList = []\n",
    "    for loc in locList:\n",
    "        refLAT, refLON = (float(loc['lat']), float(loc['lon']))\n",
    "        refPoint = Point(refLON, refLAT)\n",
    "        refList.append(refPoint)\n",
    "    print(\"Obtained coordinates for %s\" % locStr)\n",
    "    return refList"
   ]
  },
  {
   "cell_type": "markdown",
   "id": "518f5a94",
   "metadata": {},
   "source": [
    "**`getAuthorityNames(self)`:**\n",
    "A simple function to obtain an overview of implemented authorities in PyProj.\n",
    "\n",
    "Returns\n",
    "- `List` : A list of authorities (string)."
   ]
  },
  {
   "cell_type": "code",
   "execution_count": 14,
   "id": "d6be570c",
   "metadata": {},
   "outputs": [],
   "source": [
    "def getAuthorityNames():\n",
    "    return database.get_authorities()"
   ]
  },
  {
   "cell_type": "markdown",
   "id": "7494cdb2",
   "metadata": {},
   "source": [
    "**`getCandidateList(self, Point, int)`:**\n",
    "Function that generates a list of all CRS in the database that intersect with the given point. The selection is based on the intersection of this point with the boundaries of the \"area of use\" of all available CRS.\n",
    "\n",
    "Parameters\n",
    "- `refPoint` : Point (shapely.geometry), a point that contains the geographic coordinates of the estimated location of the study area (in LON, LAT).\n",
    "- `buffer` : Integer, optional, optional value that represents a buffer distance around the given point. To be used when the estimated location cannot be defined with great certainty. The default is 0.\n",
    "\n",
    "Returns\n",
    "- `candidates` : List, a list of pyproj.CRS objects corresponding with the CRS intersecting the given reference point."
   ]
  },
  {
   "cell_type": "code",
   "execution_count": 15,
   "id": "10c9de07",
   "metadata": {},
   "outputs": [],
   "source": [
    "def getCandidateList(refPoint, buffer=0):\n",
    "    candidates = []\n",
    "    epsgList = database.get_codes('EPSG', 'PROJECTED_CRS')\n",
    "    if buffer > 0 and buffer < 1:\n",
    "        epsgList = database.get_codes('EPSG', 'GEOGRAPHIC_CRS')\n",
    "    for epsg in epsgList:\n",
    "        crs = CRS.from_epsg(epsg)\n",
    "        crsBounds = crs.area_of_use.bounds\n",
    "        crsBoundsPolygon = Polygon(((crsBounds[0], crsBounds[1]),\n",
    "            (crsBounds[2], crsBounds[1]), (crsBounds[2], crsBounds[3]),\n",
    "            (crsBounds[0], crsBounds[3])))\n",
    "        if crsBoundsPolygon.intersects(refPoint):\n",
    "            candidates.append(crs)\n",
    "    print(\"Prepared list of candidate CRS for [%.3f, %.3f]\" % (refPoint.y, refPoint.x))\n",
    "    return candidates"
   ]
  },
  {
   "cell_type": "markdown",
   "id": "ed42e2a8",
   "metadata": {},
   "source": [
    "**`evaluateCRSList(self, list, Point, Point)`:**\n",
    "For each CRS in the list, the reprojected coordinates of the reference point are calculated. Then, the distance between the given point with unknown CRS and the reprojected reference point is calculated. This function results in a sorted Pandas DataFrame with reference to the CRS and the accompanying distance.\n",
    "\n",
    "Parameters\n",
    "- `candidates` : List: a list of pyproj.CRS objects corresponding with the CRS intersecting the given reference point.\n",
    "- `givenPoint` : Point (shapely.geometry): a point with given coordinates but with an unknown CRS.\n",
    "- `refPoint` : Point (shapely.geometry): a point that contains the geographic coordinates of the estimated location of the study area (in LON, LAT).\n",
    "\n",
    "Returns\n",
    "- `assessmentDf` : DataFrame (pandas), a Pandas DataFrame containing a distance for each CRS. The following keys are used:\n",
    " - `crs`: pyproj.CRS-object, the CRS itself\n",
    " - `name`: string, the name of the CRS\n",
    " - `dist`: float, the distance between the projected reference point and the given point (in m)."
   ]
  },
  {
   "cell_type": "code",
   "execution_count": 16,
   "id": "abcc0f10",
   "metadata": {},
   "outputs": [],
   "source": [
    "def evaluateCRSList(candidates, givenPoint, refPoint):\n",
    "    assessment = []\n",
    "    for candidate in candidates:\n",
    "        try:\n",
    "            refCRS = CRS.from_epsg(4326)\n",
    "            if candidate is not refCRS:\n",
    "                transformer = Transformer.from_crs(refCRS, candidate, always_xy=True)\n",
    "                calcX, calcY = transformer.transform(refPoint.x, refPoint.y)\n",
    "                calcPoint = Point(calcX, calcY)\n",
    "            else:\n",
    "                calcPoint = refPoint\n",
    "            dist = givenPoint.distance(calcPoint)\n",
    "            assessment.append({'crs': candidate, 'name': candidate.name, 'dist': dist})\n",
    "        except:\n",
    "            continue\n",
    "    assessmentDf = pd.DataFrame.from_records(assessment)\n",
    "    assessmentDf = assessmentDf.sort_values('dist')\n",
    "    print(\"Calculated distances for candidate CRS for [%.3f, %.3f]\" % (refPoint.y, refPoint.x))\n",
    "    return assessmentDf"
   ]
  },
  {
   "cell_type": "markdown",
   "id": "22449239",
   "metadata": {},
   "source": [
    "## The code that combines all together\n",
    "The code is demonstrated for a coordinate located in Ghent, Belgium:"
   ]
  },
  {
   "cell_type": "code",
   "execution_count": 19,
   "id": "4adcfae2",
   "metadata": {},
   "outputs": [
    {
     "name": "stdout",
     "output_type": "stream",
     "text": [
      "Obtained coordinates for Gent\n",
      "Prepared list of candidate CRS for [51.054, 3.725]\n",
      "Calculated distances for candidate CRS for [51.054, 3.725]\n",
      "           crs                                name         dist\n",
      "13  epsg:31370           BD72 / Belgian Lambert 72     0.149866\n",
      "0   epsg:21500  BD50 (Brussels) / Belge Lambert 50     0.227464\n",
      "12  epsg:31300             BD72 / Belge Lambert 72     0.607695\n",
      "18   epsg:3447       ETRS89 / Belgian Lambert 2005     1.268719\n",
      "8   epsg:28992                 Amersfoort / RD New   162.084666\n",
      "30   epsg:5643                     ED50 / SPBA LCC   317.172994\n",
      "7   epsg:28991                 Amersfoort / RD Old   385.270250\n",
      "4   epsg:27561   NTF (Paris) / Lambert Nord France   619.048303\n",
      "25   epsg:3812       ETRS89 / Belgian Lambert 2008   706.960320\n",
      "5   epsg:27571        NTF (Paris) / Lambert zone I  1320.117559\n"
     ]
    }
   ],
   "source": [
    "refList = geocode(\"Gent\")\n",
    "givenX, givenY = 105000, 194000\n",
    "\n",
    "givenPoint = Point(givenX, givenY)\n",
    "buffer = 1500\n",
    "threshold = sys.maxsize\n",
    "\n",
    "bestCRSdf = pd.DataFrame({\"dist\": threshold}, index=[0])\n",
    "\n",
    "# FOR PYTHON 3.9\n",
    "# refPointIter = iter(refList)\n",
    "# while (refPoint := next(refPointIter, None)) is not None and threshold > buffer:\n",
    "\n",
    "# OTHERWISE\n",
    "i = 0\n",
    "while (i < len(refList) and threshold > buffer):\n",
    "    refPoint = refList[i]\n",
    "    candidates = getCandidateList(refPoint, buffer)\n",
    "    assessmentDf = evaluateCRSList(candidates, givenPoint, refPoint)\n",
    "    threshold = assessmentDf.iloc[0]['dist']\n",
    "    if threshold < bestCRSdf.iloc[0]['dist']:\n",
    "        bestCRSdf = assessmentDf\n",
    "        threshold = assessmentDf.iloc[0]['dist']\n",
    "    i += 1\n",
    "    \n",
    "bestCRSdf['dist'] = bestCRSdf['dist'] / 1000\n",
    "print(bestCRSdf.head(10))"
   ]
  },
  {
   "cell_type": "code",
   "execution_count": null,
   "id": "e026ad59",
   "metadata": {},
   "outputs": [],
   "source": []
  }
 ],
 "metadata": {
  "kernelspec": {
   "display_name": "Python 3 (ipykernel)",
   "language": "python",
   "name": "python3"
  },
  "language_info": {
   "codemirror_mode": {
    "name": "ipython",
    "version": 3
   },
   "file_extension": ".py",
   "mimetype": "text/x-python",
   "name": "python",
   "nbconvert_exporter": "python",
   "pygments_lexer": "ipython3",
   "version": "3.9.10"
  }
 },
 "nbformat": 4,
 "nbformat_minor": 5
}
